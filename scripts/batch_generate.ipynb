{
 "cells": [
  {
   "cell_type": "code",
   "execution_count": 1,
   "id": "e6815b02",
   "metadata": {},
   "outputs": [
    {
     "name": "stderr",
     "output_type": "stream",
     "text": [
      "/media/data3/sj/Code/Gen4D/.pixi/envs/dev/lib/python3.12/site-packages/monai/networks/blocks/warp.py:72: UserWarning: monai.networks.blocks.Warp: Using PyTorch native grid_sample.\n",
      "  warnings.warn(\"monai.networks.blocks.Warp: Using PyTorch native grid_sample.\")\n",
      "generating 4d cta for Normal_03.nii.gz...:  70%|███████   | 14/20 [02:48<01:12, 12.03s/it]\n"
     ]
    },
    {
     "ename": "KeyboardInterrupt",
     "evalue": "",
     "output_type": "error",
     "traceback": [
      "\u001b[31m---------------------------------------------------------------------------\u001b[39m",
      "\u001b[31mKeyboardInterrupt\u001b[39m                         Traceback (most recent call last)",
      "\u001b[36mCell\u001b[39m\u001b[36m \u001b[39m\u001b[32mIn[1]\u001b[39m\u001b[32m, line 30\u001b[39m\n\u001b[32m     28\u001b[39m output_dir = output_root / image_nii.name.split(\u001b[33m'\u001b[39m\u001b[33m.\u001b[39m\u001b[33m'\u001b[39m)[\u001b[32m0\u001b[39m]\n\u001b[32m     29\u001b[39m output_dir.mkdir(parents=\u001b[38;5;28;01mTrue\u001b[39;00m, exist_ok=\u001b[38;5;28;01mTrue\u001b[39;00m)\n\u001b[32m---> \u001b[39m\u001b[32m30\u001b[39m \u001b[43mgenerate_4d_cta\u001b[49m\u001b[43m(\u001b[49m\n\u001b[32m     31\u001b[39m \u001b[43m    \u001b[49m\u001b[43msub_dvf_dir\u001b[49m\u001b[43m,\u001b[49m\u001b[43m \u001b[49m\u001b[43mroi_json\u001b[49m\u001b[43m,\u001b[49m\u001b[43m \u001b[49m\u001b[43mimage_nii\u001b[49m\u001b[43m,\u001b[49m\u001b[43m \u001b[49m\u001b[43mcoronary_nii\u001b[49m\u001b[43m,\u001b[49m\u001b[43m \u001b[49m\u001b[43moutput_dir\u001b[49m\n\u001b[32m     32\u001b[39m \u001b[43m\u001b[49m\u001b[43m)\u001b[49m\n\u001b[32m     33\u001b[39m i+=\u001b[32m1\u001b[39m\n",
      "\u001b[36mFile \u001b[39m\u001b[32m/media/data3/sj/Code/Gen4D/.pixi/envs/dev/lib/python3.12/site-packages/torch/utils/_contextlib.py:120\u001b[39m, in \u001b[36mcontext_decorator.<locals>.decorate_context\u001b[39m\u001b[34m(*args, **kwargs)\u001b[39m\n\u001b[32m    117\u001b[39m \u001b[38;5;129m@functools\u001b[39m.wraps(func)\n\u001b[32m    118\u001b[39m \u001b[38;5;28;01mdef\u001b[39;00m\u001b[38;5;250m \u001b[39m\u001b[34mdecorate_context\u001b[39m(*args, **kwargs):\n\u001b[32m    119\u001b[39m     \u001b[38;5;28;01mwith\u001b[39;00m ctx_factory():\n\u001b[32m--> \u001b[39m\u001b[32m120\u001b[39m         \u001b[38;5;28;01mreturn\u001b[39;00m \u001b[43mfunc\u001b[49m\u001b[43m(\u001b[49m\u001b[43m*\u001b[49m\u001b[43margs\u001b[49m\u001b[43m,\u001b[49m\u001b[43m \u001b[49m\u001b[43m*\u001b[49m\u001b[43m*\u001b[49m\u001b[43mkwargs\u001b[49m\u001b[43m)\u001b[49m\n",
      "\u001b[36mFile \u001b[39m\u001b[32m/media/data3/sj/Code/Gen4D/generate_4d_heart/warp_image.py:52\u001b[39m, in \u001b[36mgenerate_4d_cta\u001b[39m\u001b[34m(dvf_dir, roi_json, image_path, coronary_path, output_cta_path)\u001b[39m\n\u001b[32m     45\u001b[39m ddf = dvf2ddf(dvf_tensor)\n\u001b[32m     46\u001b[39m save_nifti(\n\u001b[32m     47\u001b[39m     warp_image(image, ddf),\n\u001b[32m     48\u001b[39m     image_affine,\n\u001b[32m     49\u001b[39m     output_cta_path / \u001b[33m\"\u001b[39m\u001b[33mwarped_image\u001b[39m\u001b[33m\"\u001b[39m / \u001b[33mf\u001b[39m\u001b[33m\"\u001b[39m\u001b[38;5;132;01m{\u001b[39;00mphase\u001b[38;5;132;01m:\u001b[39;00m\u001b[33m02d\u001b[39m\u001b[38;5;132;01m}\u001b[39;00m\u001b[33m.nii.gz\u001b[39m\u001b[33m\"\u001b[39m\n\u001b[32m     50\u001b[39m )\n\u001b[32m---> \u001b[39m\u001b[32m52\u001b[39m \u001b[43msave_nifti\u001b[49m\u001b[43m(\u001b[49m\n\u001b[32m     53\u001b[39m \u001b[43m    \u001b[49m\u001b[43mwarp_image\u001b[49m\u001b[43m(\u001b[49m\u001b[43mimage\u001b[49m\u001b[43m,\u001b[49m\u001b[43m \u001b[49m\u001b[43mddf\u001b[49m\u001b[43m)\u001b[49m\u001b[43m,\u001b[49m\n\u001b[32m     54\u001b[39m \u001b[43m    \u001b[49m\u001b[43mimage_affine\u001b[49m\u001b[43m,\u001b[49m\n\u001b[32m     55\u001b[39m \u001b[43m    \u001b[49m\u001b[43moutput_cta_path\u001b[49m\u001b[43m \u001b[49m\u001b[43m/\u001b[49m\u001b[43m \u001b[49m\u001b[33;43m\"\u001b[39;49m\u001b[33;43mwarped_coronary\u001b[39;49m\u001b[33;43m\"\u001b[39;49m\u001b[43m \u001b[49m\u001b[43m/\u001b[49m\u001b[43m \u001b[49m\u001b[33;43mf\u001b[39;49m\u001b[33;43m\"\u001b[39;49m\u001b[38;5;132;43;01m{\u001b[39;49;00m\u001b[43mphase\u001b[49m\u001b[38;5;132;43;01m:\u001b[39;49;00m\u001b[33;43m02d\u001b[39;49m\u001b[38;5;132;43;01m}\u001b[39;49;00m\u001b[33;43m.nii.gz\u001b[39;49m\u001b[33;43m\"\u001b[39;49m\n\u001b[32m     56\u001b[39m \u001b[43m\u001b[49m\u001b[43m)\u001b[49m\n",
      "\u001b[36mFile \u001b[39m\u001b[32m/media/data3/sj/Code/Gen4D/generate_4d_heart/dsa.py:93\u001b[39m, in \u001b[36msave_nifti\u001b[39m\u001b[34m(tensor, affine, output_path)\u001b[39m\n\u001b[32m     91\u001b[39m \u001b[38;5;28;01melse\u001b[39;00m:\n\u001b[32m     92\u001b[39m     \u001b[38;5;28;01mraise\u001b[39;00m \u001b[38;5;167;01mValueError\u001b[39;00m(\u001b[33mf\u001b[39m\u001b[33m\"\u001b[39m\u001b[33mUnsupported tensor shape: \u001b[39m\u001b[38;5;132;01m{\u001b[39;00mtensor.shape\u001b[38;5;132;01m}\u001b[39;00m\u001b[33m\"\u001b[39m)\n\u001b[32m---> \u001b[39m\u001b[32m93\u001b[39m \u001b[43mnib\u001b[49m\u001b[43m.\u001b[49m\u001b[43msave\u001b[49m\u001b[43m(\u001b[49m\u001b[43mnib\u001b[49m\u001b[43m.\u001b[49m\u001b[43mNifti1Image\u001b[49m\u001b[43m(\u001b[49m\u001b[43mtensor\u001b[49m\u001b[43m.\u001b[49m\u001b[43mcpu\u001b[49m\u001b[43m(\u001b[49m\u001b[43m)\u001b[49m\u001b[43m.\u001b[49m\u001b[43mnumpy\u001b[49m\u001b[43m(\u001b[49m\u001b[43m)\u001b[49m\u001b[43m.\u001b[49m\u001b[43mastype\u001b[49m\u001b[43m(\u001b[49m\u001b[43mnp\u001b[49m\u001b[43m.\u001b[49m\u001b[43mfloat32\u001b[49m\u001b[43m)\u001b[49m\u001b[43m,\u001b[49m\u001b[43m \u001b[49m\u001b[43maffine\u001b[49m\u001b[43m)\u001b[49m\u001b[43m,\u001b[49m\u001b[43m \u001b[49m\u001b[43moutput_path\u001b[49m\u001b[43m)\u001b[49m\n",
      "\u001b[36mFile \u001b[39m\u001b[32m/media/data3/sj/Code/Gen4D/.pixi/envs/dev/lib/python3.12/site-packages/nibabel/loadsave.py:164\u001b[39m, in \u001b[36msave\u001b[39m\u001b[34m(img, filename, **kwargs)\u001b[39m\n\u001b[32m    162\u001b[39m \u001b[38;5;66;03m# Save the type as expected\u001b[39;00m\n\u001b[32m    163\u001b[39m \u001b[38;5;28;01mtry\u001b[39;00m:\n\u001b[32m--> \u001b[39m\u001b[32m164\u001b[39m     \u001b[43mimg\u001b[49m\u001b[43m.\u001b[49m\u001b[43mto_filename\u001b[49m\u001b[43m(\u001b[49m\u001b[43mfilename\u001b[49m\u001b[43m,\u001b[49m\u001b[43m \u001b[49m\u001b[43m*\u001b[49m\u001b[43m*\u001b[49m\u001b[43mkwargs\u001b[49m\u001b[43m)\u001b[49m\n\u001b[32m    165\u001b[39m \u001b[38;5;28;01mexcept\u001b[39;00m ImageFileError:\n\u001b[32m    166\u001b[39m     \u001b[38;5;28;01mpass\u001b[39;00m\n",
      "\u001b[36mFile \u001b[39m\u001b[32m/media/data3/sj/Code/Gen4D/.pixi/envs/dev/lib/python3.12/site-packages/nibabel/filebasedimages.py:308\u001b[39m, in \u001b[36mFileBasedImage.to_filename\u001b[39m\u001b[34m(self, filename, **kwargs)\u001b[39m\n\u001b[32m    292\u001b[39m \u001b[38;5;250m\u001b[39m\u001b[33mr\u001b[39m\u001b[33;03m\"\"\"Write image to files implied by filename string\u001b[39;00m\n\u001b[32m    293\u001b[39m \n\u001b[32m    294\u001b[39m \u001b[33;03mParameters\u001b[39;00m\n\u001b[32m   (...)\u001b[39m\u001b[32m    305\u001b[39m \u001b[33;03mNone\u001b[39;00m\n\u001b[32m    306\u001b[39m \u001b[33;03m\"\"\"\u001b[39;00m\n\u001b[32m    307\u001b[39m \u001b[38;5;28mself\u001b[39m.file_map = \u001b[38;5;28mself\u001b[39m.filespec_to_file_map(filename)\n\u001b[32m--> \u001b[39m\u001b[32m308\u001b[39m \u001b[38;5;28;43mself\u001b[39;49m\u001b[43m.\u001b[49m\u001b[43mto_file_map\u001b[49m\u001b[43m(\u001b[49m\u001b[43m*\u001b[49m\u001b[43m*\u001b[49m\u001b[43mkwargs\u001b[49m\u001b[43m)\u001b[49m\n",
      "\u001b[36mFile \u001b[39m\u001b[32m/media/data3/sj/Code/Gen4D/.pixi/envs/dev/lib/python3.12/site-packages/nibabel/nifti1.py:2377\u001b[39m, in \u001b[36mNifti1Pair.to_file_map\u001b[39m\u001b[34m(self, file_map, dtype)\u001b[39m\n\u001b[32m   2375\u001b[39m \u001b[38;5;28mself\u001b[39m.get_data_dtype(finalize=\u001b[38;5;28;01mTrue\u001b[39;00m)\n\u001b[32m   2376\u001b[39m \u001b[38;5;28;01mtry\u001b[39;00m:\n\u001b[32m-> \u001b[39m\u001b[32m2377\u001b[39m     \u001b[38;5;28;43msuper\u001b[39;49m\u001b[43m(\u001b[49m\u001b[43m)\u001b[49m\u001b[43m.\u001b[49m\u001b[43mto_file_map\u001b[49m\u001b[43m(\u001b[49m\u001b[43mfile_map\u001b[49m\u001b[43m,\u001b[49m\u001b[43m \u001b[49m\u001b[43mdtype\u001b[49m\u001b[43m)\u001b[49m\n\u001b[32m   2378\u001b[39m \u001b[38;5;28;01mfinally\u001b[39;00m:\n\u001b[32m   2379\u001b[39m     \u001b[38;5;28mself\u001b[39m.set_data_dtype(img_dtype)\n",
      "\u001b[36mFile \u001b[39m\u001b[32m/media/data3/sj/Code/Gen4D/.pixi/envs/dev/lib/python3.12/site-packages/nibabel/analyze.py:1054\u001b[39m, in \u001b[36mAnalyzeImage.to_file_map\u001b[39m\u001b[34m(self, file_map, dtype)\u001b[39m\n\u001b[32m   1052\u001b[39m seek_tell(imgf, hdr.get_data_offset(), write0=\u001b[38;5;28;01mTrue\u001b[39;00m)\n\u001b[32m   1053\u001b[39m \u001b[38;5;66;03m# Write array data\u001b[39;00m\n\u001b[32m-> \u001b[39m\u001b[32m1054\u001b[39m \u001b[43marr_writer\u001b[49m\u001b[43m.\u001b[49m\u001b[43mto_fileobj\u001b[49m\u001b[43m(\u001b[49m\u001b[43mimgf\u001b[49m\u001b[43m)\u001b[49m\n\u001b[32m   1055\u001b[39m hdrf.close_if_mine()\n\u001b[32m   1056\u001b[39m \u001b[38;5;28;01mif\u001b[39;00m \u001b[38;5;129;01mnot\u001b[39;00m hdr_img_same:\n",
      "\u001b[36mFile \u001b[39m\u001b[32m/media/data3/sj/Code/Gen4D/.pixi/envs/dev/lib/python3.12/site-packages/nibabel/arraywriters.py:526\u001b[39m, in \u001b[36mSlopeInterArrayWriter.to_fileobj\u001b[39m\u001b[34m(self, fileobj, order)\u001b[39m\n\u001b[32m    517\u001b[39m \u001b[38;5;250m\u001b[39m\u001b[33;03m\"\"\"Write array into `fileobj`\u001b[39;00m\n\u001b[32m    518\u001b[39m \n\u001b[32m    519\u001b[39m \u001b[33;03mParameters\u001b[39;00m\n\u001b[32m   (...)\u001b[39m\u001b[32m    523\u001b[39m \u001b[33;03m    order (Fortran or C) to which to write array\u001b[39;00m\n\u001b[32m    524\u001b[39m \u001b[33;03m\"\"\"\u001b[39;00m\n\u001b[32m    525\u001b[39m mn, mx = \u001b[38;5;28mself\u001b[39m._writing_range()\n\u001b[32m--> \u001b[39m\u001b[32m526\u001b[39m \u001b[43marray_to_file\u001b[49m\u001b[43m(\u001b[49m\n\u001b[32m    527\u001b[39m \u001b[43m    \u001b[49m\u001b[38;5;28;43mself\u001b[39;49m\u001b[43m.\u001b[49m\u001b[43m_array\u001b[49m\u001b[43m,\u001b[49m\n\u001b[32m    528\u001b[39m \u001b[43m    \u001b[49m\u001b[43mfileobj\u001b[49m\u001b[43m,\u001b[49m\n\u001b[32m    529\u001b[39m \u001b[43m    \u001b[49m\u001b[38;5;28;43mself\u001b[39;49m\u001b[43m.\u001b[49m\u001b[43m_out_dtype\u001b[49m\u001b[43m,\u001b[49m\n\u001b[32m    530\u001b[39m \u001b[43m    \u001b[49m\u001b[43moffset\u001b[49m\u001b[43m=\u001b[49m\u001b[38;5;28;43;01mNone\u001b[39;49;00m\u001b[43m,\u001b[49m\n\u001b[32m    531\u001b[39m \u001b[43m    \u001b[49m\u001b[43mintercept\u001b[49m\u001b[43m=\u001b[49m\u001b[38;5;28;43mself\u001b[39;49m\u001b[43m.\u001b[49m\u001b[43minter\u001b[49m\u001b[43m,\u001b[49m\n\u001b[32m    532\u001b[39m \u001b[43m    \u001b[49m\u001b[43mdivslope\u001b[49m\u001b[43m=\u001b[49m\u001b[38;5;28;43mself\u001b[39;49m\u001b[43m.\u001b[49m\u001b[43mslope\u001b[49m\u001b[43m,\u001b[49m\n\u001b[32m    533\u001b[39m \u001b[43m    \u001b[49m\u001b[43mmn\u001b[49m\u001b[43m=\u001b[49m\u001b[43mmn\u001b[49m\u001b[43m,\u001b[49m\n\u001b[32m    534\u001b[39m \u001b[43m    \u001b[49m\u001b[43mmx\u001b[49m\u001b[43m=\u001b[49m\u001b[43mmx\u001b[49m\u001b[43m,\u001b[49m\n\u001b[32m    535\u001b[39m \u001b[43m    \u001b[49m\u001b[43morder\u001b[49m\u001b[43m=\u001b[49m\u001b[43morder\u001b[49m\u001b[43m,\u001b[49m\n\u001b[32m    536\u001b[39m \u001b[43m    \u001b[49m\u001b[43mnan2zero\u001b[49m\u001b[43m=\u001b[49m\u001b[38;5;28;43mself\u001b[39;49m\u001b[43m.\u001b[49m\u001b[43m_needs_nan2zero\u001b[49m\u001b[43m(\u001b[49m\u001b[43m)\u001b[49m\u001b[43m,\u001b[49m\n\u001b[32m    537\u001b[39m \u001b[43m\u001b[49m\u001b[43m)\u001b[49m\n",
      "\u001b[36mFile \u001b[39m\u001b[32m/media/data3/sj/Code/Gen4D/.pixi/envs/dev/lib/python3.12/site-packages/nibabel/volumeutils.py:607\u001b[39m, in \u001b[36marray_to_file\u001b[39m\u001b[34m(data, fileobj, out_dtype, offset, intercept, divslope, mn, mx, order, nan2zero)\u001b[39m\n\u001b[32m    605\u001b[39m     pre_clips = _dt_min_max(in_dtype, *pre_clips)\n\u001b[32m    606\u001b[39m \u001b[38;5;28;01mif\u001b[39;00m null_scaling \u001b[38;5;129;01mand\u001b[39;00m np.can_cast(in_dtype, out_dtype):\n\u001b[32m--> \u001b[39m\u001b[32m607\u001b[39m     \u001b[38;5;28;01mreturn\u001b[39;00m \u001b[43m_write_data\u001b[49m\u001b[43m(\u001b[49m\u001b[43mdata\u001b[49m\u001b[43m,\u001b[49m\u001b[43m \u001b[49m\u001b[43mfileobj\u001b[49m\u001b[43m,\u001b[49m\u001b[43m \u001b[49m\u001b[43mout_dtype\u001b[49m\u001b[43m,\u001b[49m\u001b[43m \u001b[49m\u001b[43morder\u001b[49m\u001b[43m,\u001b[49m\u001b[43m \u001b[49m\u001b[43mpre_clips\u001b[49m\u001b[43m=\u001b[49m\u001b[43mpre_clips\u001b[49m\u001b[43m)\u001b[49m\n\u001b[32m    608\u001b[39m \u001b[38;5;66;03m# Force upcasting for floats by making atleast_1d.\u001b[39;00m\n\u001b[32m    609\u001b[39m slope, inter = (np.atleast_1d(v) \u001b[38;5;28;01mfor\u001b[39;00m v \u001b[38;5;129;01min\u001b[39;00m (divslope, intercept))\n",
      "\u001b[36mFile \u001b[39m\u001b[32m/media/data3/sj/Code/Gen4D/.pixi/envs/dev/lib/python3.12/site-packages/nibabel/volumeutils.py:786\u001b[39m, in \u001b[36m_write_data\u001b[39m\u001b[34m(data, fileobj, out_dtype, order, in_cast, pre_clips, inter, slope, post_clips, nan_fill)\u001b[39m\n\u001b[32m    784\u001b[39m \u001b[38;5;28;01mif\u001b[39;00m dslice.dtype != out_dtype:\n\u001b[32m    785\u001b[39m     dslice = dslice.astype(out_dtype)\n\u001b[32m--> \u001b[39m\u001b[32m786\u001b[39m \u001b[43mfileobj\u001b[49m\u001b[43m.\u001b[49m\u001b[43mwrite\u001b[49m\u001b[43m(\u001b[49m\u001b[43mdslice\u001b[49m\u001b[43m.\u001b[49m\u001b[43mtobytes\u001b[49m\u001b[43m(\u001b[49m\u001b[43m)\u001b[49m\u001b[43m)\u001b[49m\n",
      "\u001b[36mFile \u001b[39m\u001b[32m/media/data3/sj/Code/Gen4D/.pixi/envs/dev/lib/python3.12/site-packages/nibabel/openers.py:231\u001b[39m, in \u001b[36mOpener.write\u001b[39m\u001b[34m(self, b)\u001b[39m\n\u001b[32m    230\u001b[39m \u001b[38;5;28;01mdef\u001b[39;00m\u001b[38;5;250m \u001b[39m\u001b[34mwrite\u001b[39m(\u001b[38;5;28mself\u001b[39m, b: \u001b[38;5;28mbytes\u001b[39m, /) -> \u001b[38;5;28mint\u001b[39m | \u001b[38;5;28;01mNone\u001b[39;00m:\n\u001b[32m--> \u001b[39m\u001b[32m231\u001b[39m     \u001b[38;5;28;01mreturn\u001b[39;00m \u001b[38;5;28;43mself\u001b[39;49m\u001b[43m.\u001b[49m\u001b[43mfobj\u001b[49m\u001b[43m.\u001b[49m\u001b[43mwrite\u001b[49m\u001b[43m(\u001b[49m\u001b[43mb\u001b[49m\u001b[43m)\u001b[49m\n",
      "\u001b[36mFile \u001b[39m\u001b[32m/media/data3/sj/Code/Gen4D/.pixi/envs/dev/lib/python3.12/gzip.py:314\u001b[39m, in \u001b[36mGzipFile.write\u001b[39m\u001b[34m(self, data)\u001b[39m\n\u001b[32m    311\u001b[39m \u001b[38;5;28;01mif\u001b[39;00m \u001b[38;5;28mself\u001b[39m.fileobj \u001b[38;5;129;01mis\u001b[39;00m \u001b[38;5;28;01mNone\u001b[39;00m:\n\u001b[32m    312\u001b[39m     \u001b[38;5;28;01mraise\u001b[39;00m \u001b[38;5;167;01mValueError\u001b[39;00m(\u001b[33m\"\u001b[39m\u001b[33mwrite() on closed GzipFile object\u001b[39m\u001b[33m\"\u001b[39m)\n\u001b[32m--> \u001b[39m\u001b[32m314\u001b[39m \u001b[38;5;28;01mreturn\u001b[39;00m \u001b[38;5;28;43mself\u001b[39;49m\u001b[43m.\u001b[49m\u001b[43m_buffer\u001b[49m\u001b[43m.\u001b[49m\u001b[43mwrite\u001b[49m\u001b[43m(\u001b[49m\u001b[43mdata\u001b[49m\u001b[43m)\u001b[49m\n",
      "\u001b[36mFile \u001b[39m\u001b[32m/media/data3/sj/Code/Gen4D/.pixi/envs/dev/lib/python3.12/gzip.py:137\u001b[39m, in \u001b[36m_WriteBufferStream.write\u001b[39m\u001b[34m(self, data)\u001b[39m\n\u001b[32m    135\u001b[39m \u001b[38;5;28;01mif\u001b[39;00m gzip_file \u001b[38;5;129;01mis\u001b[39;00m \u001b[38;5;28;01mNone\u001b[39;00m:\n\u001b[32m    136\u001b[39m     \u001b[38;5;28;01mraise\u001b[39;00m \u001b[38;5;167;01mRuntimeError\u001b[39;00m(\u001b[33m\"\u001b[39m\u001b[33mlost gzip_file\u001b[39m\u001b[33m\"\u001b[39m)\n\u001b[32m--> \u001b[39m\u001b[32m137\u001b[39m \u001b[38;5;28;01mreturn\u001b[39;00m \u001b[43mgzip_file\u001b[49m\u001b[43m.\u001b[49m\u001b[43m_write_raw\u001b[49m\u001b[43m(\u001b[49m\u001b[43mdata\u001b[49m\u001b[43m)\u001b[49m\n",
      "\u001b[36mFile \u001b[39m\u001b[32m/media/data3/sj/Code/Gen4D/.pixi/envs/dev/lib/python3.12/gzip.py:326\u001b[39m, in \u001b[36mGzipFile._write_raw\u001b[39m\u001b[34m(self, data)\u001b[39m\n\u001b[32m    323\u001b[39m     length = data.nbytes\n\u001b[32m    325\u001b[39m \u001b[38;5;28;01mif\u001b[39;00m length > \u001b[32m0\u001b[39m:\n\u001b[32m--> \u001b[39m\u001b[32m326\u001b[39m     \u001b[38;5;28mself\u001b[39m.fileobj.write(\u001b[38;5;28;43mself\u001b[39;49m\u001b[43m.\u001b[49m\u001b[43mcompress\u001b[49m\u001b[43m.\u001b[49m\u001b[43mcompress\u001b[49m\u001b[43m(\u001b[49m\u001b[43mdata\u001b[49m\u001b[43m)\u001b[49m)\n\u001b[32m    327\u001b[39m     \u001b[38;5;28mself\u001b[39m.size += length\n\u001b[32m    328\u001b[39m     \u001b[38;5;28mself\u001b[39m.crc = zlib.crc32(data, \u001b[38;5;28mself\u001b[39m.crc)\n",
      "\u001b[31mKeyboardInterrupt\u001b[39m: "
     ]
    }
   ],
   "source": [
    "from pathlib import Path\n",
    "import os\n",
    "\n",
    "from generate_4d_heart.warp_image import generate_4d_cta\n",
    "\n",
    "os.environ[\"CUDA_VISIBLE_DEVICES\"] = \"2\"\n",
    "\n",
    "gen_dvf_output_dir = Path(\"/media/data3/sj/Data/ASOCA/normal_gen_4d_output_new\")\n",
    "dvf_dir = gen_dvf_output_dir / \"dvf\"\n",
    "roi_dir = gen_dvf_output_dir / \"roi_info\"\n",
    "\n",
    "origin_dir = Path(\"/media/data3/sj/Data/ASOCA/normal_gen_4d\")\n",
    "image_dir = origin_dir / \"CTCA_nii\"\n",
    "coronary_dir = origin_dir / \"coronary\"\n",
    "\n",
    "output_root = Path(\"/media/data3/sj/Data/ASOCA/4d_heart\")\n",
    "\n",
    "i = 0\n",
    "for sub_dvf_dir, roi_json, image_nii, coronary_nii in zip(\n",
    "    sorted(dvf_dir.iterdir()),\n",
    "    sorted(roi_dir.iterdir()),\n",
    "    sorted(image_dir.iterdir()),\n",
    "    sorted(coronary_dir.iterdir())\n",
    "):\n",
    "    if i != 2 :\n",
    "        i += 1\n",
    "        continue\n",
    "    output_dir = output_root / image_nii.name.split('.')[0]\n",
    "    output_dir.mkdir(parents=True, exist_ok=True)\n",
    "    generate_4d_cta(\n",
    "        sub_dvf_dir, roi_json, image_nii, coronary_nii, output_dir\n",
    "    )\n",
    "    i+=1"
   ]
  },
  {
   "cell_type": "code",
   "execution_count": null,
   "id": "8c05306c",
   "metadata": {},
   "outputs": [],
   "source": [
    "\n",
    "\n"
   ]
  }
 ],
 "metadata": {
  "kernelspec": {
   "display_name": "dev",
   "language": "python",
   "name": "python3"
  },
  "language_info": {
   "codemirror_mode": {
    "name": "ipython",
    "version": 3
   },
   "file_extension": ".py",
   "mimetype": "text/x-python",
   "name": "python",
   "nbconvert_exporter": "python",
   "pygments_lexer": "ipython3",
   "version": "3.12.11"
  }
 },
 "nbformat": 4,
 "nbformat_minor": 5
}
